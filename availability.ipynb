{
 "cells": [
  {
   "cell_type": "code",
   "execution_count": 4,
   "id": "015ecc32-686f-4586-a51b-35b31a87186c",
   "metadata": {},
   "outputs": [],
   "source": [
    "# Availability Plot\n",
    "## Two state repairable system"
   ]
  } ]
}
